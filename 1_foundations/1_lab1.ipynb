{
 "cells": [
  {
   "cell_type": "markdown",
   "metadata": {},
   "source": [
    "# Welcome to the start of your adventure in Agentic AI"
   ]
  },
  {
   "cell_type": "markdown",
   "metadata": {},
   "source": [
    "<table style=\"margin: 0; text-align: left; width:100%\">\n",
    "    <tr>\n",
    "        <td style=\"width: 150px; height: 150px; vertical-align: middle;\">\n",
    "            <img src=\"../assets/stop.png\" width=\"150\" height=\"150\" style=\"display: block;\" />\n",
    "        </td>\n",
    "        <td>\n",
    "            <h2 style=\"color:#ff7800;\">Are you ready for action??</h2>\n",
    "            <span style=\"color:#ff7800;\">Have you completed all the setup steps in the <a href=\"../setup/\">setup</a> folder?<br/>\n",
    "            Have you read the <a href=\"../README.md\">README</a>? Many common questions are answered here!<br/>\n",
    "            Have you checked out the guides in the <a href=\"../guides/01_intro.ipynb\">guides</a> folder?<br/>\n",
    "            Well in that case, you're ready!!\n",
    "            </span>\n",
    "        </td>\n",
    "    </tr>\n",
    "</table>"
   ]
  },
  {
   "cell_type": "markdown",
   "metadata": {},
   "source": [
    "<table style=\"margin: 0; text-align: left; width:100%\">\n",
    "    <tr>\n",
    "        <td style=\"width: 150px; height: 150px; vertical-align: middle;\">\n",
    "            <img src=\"../assets/tools.png\" width=\"150\" height=\"150\" style=\"display: block;\" />\n",
    "        </td>\n",
    "        <td>\n",
    "            <h2 style=\"color:#00bfff;\">This code is a live resource - keep an eye out for my updates</h2>\n",
    "            <span style=\"color:#00bfff;\">I push updates regularly. As people ask questions or have problems, I add more examples and improve explanations. As a result, the code below might not be identical to the videos, as I've added more steps and better comments. Consider this like an interactive book that accompanies the lectures.<br/><br/>\n",
    "            I try to send emails regularly with important updates related to the course. You can find this in the 'Announcements' section of Udemy in the left sidebar. You can also choose to receive my emails via your Notification Settings in Udemy. I'm respectful of your inbox and always try to add value with my emails!\n",
    "            </span>\n",
    "        </td>\n",
    "    </tr>\n",
    "</table>"
   ]
  },
  {
   "cell_type": "markdown",
   "metadata": {},
   "source": [
    "### And please do remember to contact me if I can help\n",
    "\n",
    "And I love to connect: https://www.linkedin.com/in/eddonner/\n",
    "\n",
    "\n",
    "### New to Notebooks like this one? Head over to the guides folder!\n",
    "\n",
    "Just to check you've already added the Python and Jupyter extensions to Cursor, if not already installed:\n",
    "- Open extensions (View >> extensions)\n",
    "- Search for python, and when the results show, click on the ms-python one, and Install it if not already installed\n",
    "- Search for jupyter, and when the results show, click on the Microsoft one, and Install it if not already installed  \n",
    "Then View >> Explorer to bring back the File Explorer.\n",
    "\n",
    "And then:\n",
    "1. Click where it says \"Select Kernel\" near the top right, and select the option called `.venv (Python 3.12.9)` or similar, which should be the first choice or the most prominent choice. You may need to choose \"Python Environments\" first.\n",
    "2. Click in each \"cell\" below, starting with the cell immediately below this text, and press Shift+Enter to run\n",
    "3. Enjoy!\n",
    "\n",
    "After you click \"Select Kernel\", if there is no option like `.venv (Python 3.12.9)` then please do the following:  \n",
    "1. On Mac: From the Cursor menu, choose Settings >> VS Code Settings (NOTE: be sure to select `VSCode Settings` not `Cursor Settings`);  \n",
    "On Windows PC: From the File menu, choose Preferences >> VS Code Settings(NOTE: be sure to select `VSCode Settings` not `Cursor Settings`)  \n",
    "2. In the Settings search bar, type \"venv\"  \n",
    "3. In the field \"Path to folder with a list of Virtual Environments\" put the path to the project root, like C:\\Users\\username\\projects\\agents (on a Windows PC) or /Users/username/projects/agents (on Mac or Linux).  \n",
    "And then try again.\n",
    "\n",
    "Having problems with missing Python versions in that list? Have you ever used Anaconda before? It might be interferring. Quit Cursor, bring up a new command line, and make sure that your Anaconda environment is deactivated:    \n",
    "`conda deactivate`  \n",
    "And if you still have any problems with conda and python versions, it's possible that you will need to run this too:  \n",
    "`conda config --set auto_activate_base false`  \n",
    "and then from within the Agents directory, you should be able to run `uv python list` and see the Python 3.12 version."
   ]
  },
  {
   "cell_type": "code",
   "execution_count": 2,
   "metadata": {},
   "outputs": [],
   "source": [
    "# First let's do an import. If you get an Import Error, double check that your Kernel is correct..\n",
    "\n",
    "from dotenv import load_dotenv\n"
   ]
  },
  {
   "cell_type": "code",
   "execution_count": 3,
   "metadata": {},
   "outputs": [
    {
     "data": {
      "text/plain": [
       "True"
      ]
     },
     "execution_count": 3,
     "metadata": {},
     "output_type": "execute_result"
    }
   ],
   "source": [
    "# Next it's time to load the API keys into environment variables\n",
    "# If this returns false, see the next cell!\n",
    "\n",
    "load_dotenv(override=True)"
   ]
  },
  {
   "cell_type": "markdown",
   "metadata": {},
   "source": [
    "### Wait, did that just output `False`??\n",
    "\n",
    "If so, the most common reason is that you didn't save your `.env` file after adding the key! Be sure to have saved.\n",
    "\n",
    "Also, make sure the `.env` file is named precisely `.env` and is in the project root directory (`agents`)\n",
    "\n",
    "By the way, your `.env` file should have a stop symbol next to it in Cursor on the left, and that's actually a good thing: that's Cursor saying to you, \"hey, I realize this is a file filled with secret information, and I'm not going to send it to an external AI to suggest changes, because your keys should not be shown to anyone else.\""
   ]
  },
  {
   "cell_type": "markdown",
   "metadata": {},
   "source": [
    "<table style=\"margin: 0; text-align: left; width:100%\">\n",
    "    <tr>\n",
    "        <td style=\"width: 150px; height: 150px; vertical-align: middle;\">\n",
    "            <img src=\"../assets/stop.png\" width=\"150\" height=\"150\" style=\"display: block;\" />\n",
    "        </td>\n",
    "        <td>\n",
    "            <h2 style=\"color:#ff7800;\">Final reminders</h2>\n",
    "            <span style=\"color:#ff7800;\">1. If you're not confident about Environment Variables or Web Endpoints / APIs, please read Topics 3 and 5 in this <a href=\"../guides/04_technical_foundations.ipynb\">technical foundations guide</a>.<br/>\n",
    "            2. If you want to use AIs other than OpenAI, like Gemini, DeepSeek or Ollama (free), please see the first section in this <a href=\"../guides/09_ai_apis_and_ollama.ipynb\">AI APIs guide</a>.<br/>\n",
    "            3. If you ever get a Name Error in Python, you can always fix it immediately; see the last section of this <a href=\"../guides/06_python_foundations.ipynb\">Python Foundations guide</a> and follow both tutorials and exercises.<br/>\n",
    "            </span>\n",
    "        </td>\n",
    "    </tr>\n",
    "</table>"
   ]
  },
  {
   "cell_type": "code",
   "execution_count": 4,
   "metadata": {},
   "outputs": [
    {
     "name": "stdout",
     "output_type": "stream",
     "text": [
      "OpenAI API Key exists and begins sk-proj-\n"
     ]
    }
   ],
   "source": [
    "# Check the key - if you're not using OpenAI, check whichever key you're using! Ollama doesn't need a key.\n",
    "\n",
    "import os\n",
    "openai_api_key = os.getenv('OPENAI_API_KEY')\n",
    "\n",
    "if openai_api_key:\n",
    "    print(f\"OpenAI API Key exists and begins {openai_api_key[:8]}\")\n",
    "else:\n",
    "    print(\"OpenAI API Key not set - please head to the troubleshooting guide in the setup folder\")\n",
    "    \n"
   ]
  },
  {
   "cell_type": "code",
   "execution_count": 5,
   "metadata": {},
   "outputs": [],
   "source": [
    "# And now - the all important import statement\n",
    "# If you get an import error - head over to troubleshooting in the Setup folder\n",
    "# Even for other LLM providers like Gemini, you still use this OpenAI import - see Guide 9 for why\n",
    "\n",
    "from openai import OpenAI"
   ]
  },
  {
   "cell_type": "code",
   "execution_count": 6,
   "metadata": {},
   "outputs": [],
   "source": [
    "# And now we'll create an instance of the OpenAI class\n",
    "# If you're not sure what it means to create an instance of a class - head over to the guides folder (guide 6)!\n",
    "# If you get a NameError - head over to the guides folder (guide 6)to learn about NameErrors - always instantly fixable\n",
    "# If you're not using OpenAI, you just need to slightly modify this - precise instructions are in the AI APIs guide (guide 9)\n",
    "\n",
    "openai = OpenAI()"
   ]
  },
  {
   "cell_type": "code",
   "execution_count": 7,
   "metadata": {},
   "outputs": [],
   "source": [
    "# Create a list of messages in the familiar OpenAI format\n",
    "\n",
    "messages = [{\"role\": \"user\", \"content\": \"What is 2+2?\"}]"
   ]
  },
  {
   "cell_type": "code",
   "execution_count": 8,
   "metadata": {},
   "outputs": [
    {
     "name": "stdout",
     "output_type": "stream",
     "text": [
      "2 + 2 equals 4.\n"
     ]
    }
   ],
   "source": [
    "# And now call it! Any problems, head to the troubleshooting guide\n",
    "# This uses GPT 4.1 nano, the incredibly cheap model\n",
    "# The APIs guide (guide 9) has exact instructions for using even cheaper or free alternatives to OpenAI\n",
    "# If you get a NameError, head to the guides folder (guide 6) to learn about NameErrors - always instantly fixable\n",
    "\n",
    "response = openai.chat.completions.create(\n",
    "    model=\"gpt-4.1-nano\",\n",
    "    messages=messages\n",
    ")\n",
    "\n",
    "print(response.choices[0].message.content)\n"
   ]
  },
  {
   "cell_type": "code",
   "execution_count": 9,
   "metadata": {},
   "outputs": [],
   "source": [
    "# And now - let's ask for a question:\n",
    "\n",
    "question = \"Please propose a hard, challenging question to assess someone's IQ. Respond only with the question.\"\n",
    "messages = [{\"role\": \"user\", \"content\": question}]\n"
   ]
  },
  {
   "cell_type": "code",
   "execution_count": 10,
   "metadata": {},
   "outputs": [
    {
     "name": "stdout",
     "output_type": "stream",
     "text": [
      "If you rearrange the letters \"CIFAIPC\" you would have the name of a(n):  \n",
      "A) City  \n",
      "B) Animal  \n",
      "C) Ocean  \n",
      "D) River\n"
     ]
    }
   ],
   "source": [
    "# ask it - this uses GPT 4.1 mini, still cheap but more powerful than nano\n",
    "\n",
    "response = openai.chat.completions.create(\n",
    "    model=\"gpt-4.1-mini\",\n",
    "    messages=messages\n",
    ")\n",
    "\n",
    "question = response.choices[0].message.content\n",
    "\n",
    "print(question)\n"
   ]
  },
  {
   "cell_type": "code",
   "execution_count": 11,
   "metadata": {},
   "outputs": [],
   "source": [
    "# form a new messages list\n",
    "messages = [{\"role\": \"user\", \"content\": question}]\n"
   ]
  },
  {
   "cell_type": "code",
   "execution_count": 12,
   "metadata": {},
   "outputs": [
    {
     "name": "stdout",
     "output_type": "stream",
     "text": [
      "If you rearrange the letters \"CIFAIPC\" you get \"PACIFIC,\" which is the name of an ocean.\n",
      "\n",
      "The correct answer is:  \n",
      "C) Ocean\n"
     ]
    }
   ],
   "source": [
    "# Ask it again\n",
    "\n",
    "response = openai.chat.completions.create(\n",
    "    model=\"gpt-4.1-mini\",\n",
    "    messages=messages\n",
    ")\n",
    "\n",
    "answer = response.choices[0].message.content\n",
    "print(answer)\n"
   ]
  },
  {
   "cell_type": "code",
   "execution_count": 13,
   "metadata": {},
   "outputs": [
    {
     "data": {
      "text/markdown": [
       "If you rearrange the letters \"CIFAIPC\" you get \"PACIFIC,\" which is the name of an ocean.\n",
       "\n",
       "The correct answer is:  \n",
       "C) Ocean"
      ],
      "text/plain": [
       "<IPython.core.display.Markdown object>"
      ]
     },
     "metadata": {},
     "output_type": "display_data"
    }
   ],
   "source": [
    "from IPython.display import Markdown, display\n",
    "\n",
    "display(Markdown(answer))\n",
    "\n"
   ]
  },
  {
   "cell_type": "markdown",
   "metadata": {},
   "source": [
    "# Congratulations!\n",
    "\n",
    "That was a small, simple step in the direction of Agentic AI, with your new environment!\n",
    "\n",
    "Next time things get more interesting..."
   ]
  },
  {
   "cell_type": "markdown",
   "metadata": {},
   "source": [
    "<table style=\"margin: 0; text-align: left; width:100%\">\n",
    "    <tr>\n",
    "        <td style=\"width: 150px; height: 150px; vertical-align: middle;\">\n",
    "            <img src=\"../assets/exercise.png\" width=\"150\" height=\"150\" style=\"display: block;\" />\n",
    "        </td>\n",
    "        <td>\n",
    "            <h2 style=\"color:#ff7800;\">Exercise</h2>\n",
    "            <span style=\"color:#ff7800;\">Now try this commercial application:<br/>\n",
    "            First ask the LLM to pick a business area that might be worth exploring for an Agentic AI opportunity.<br/>\n",
    "            Then ask the LLM to present a pain-point in that industry - something challenging that might be ripe for an Agentic solution.<br/>\n",
    "            Finally have 3 third LLM call propose the Agentic AI solution. <br/>\n",
    "            We will cover this at up-coming labs, so don't worry if you're unsure.. just give it a try!\n",
    "            </span>\n",
    "        </td>\n",
    "    </tr>\n",
    "</table>"
   ]
  },
  {
   "cell_type": "code",
   "execution_count": 16,
   "metadata": {},
   "outputs": [],
   "source": [
    "# First create the messages:\n",
    "\n",
    "messages = [{\"role\": \"user\", \"content\": \"Pick a business area that might be worth exploring for an Agentic AI opportunity\"}]\n",
    "\n",
    "# Then make the first call:\n",
    "\n",
    "response = openai.chat.completions.create(\n",
    "    model=\"gpt-4.1-mini\",\n",
    "    messages=messages\n",
    ")\n",
    "\n",
    "# Then read the business idea:\n",
    "\n",
    "business_idea = response.choices[0].message.content\n",
    "\n",
    "# And repeat! In the next message, include the business idea within the message"
   ]
  },
  {
   "cell_type": "code",
   "execution_count": 17,
   "metadata": {},
   "outputs": [
    {
     "name": "stdout",
     "output_type": "stream",
     "text": [
      "One promising business area for exploring an Agentic AI opportunity is **Personalized Healthcare Management**.\n",
      "\n",
      "### Why Personalized Healthcare Management?\n",
      "\n",
      "1. **Complex Decision-Making Needs:** Healthcare involves managing vast amounts of data, including patient history, genetics, lifestyle, and real-time health metrics, requiring nuanced, context-aware decisions.\n",
      "\n",
      "2. **Dynamic and Continuous Monitoring:** Agentic AI can autonomously monitor patient data from wearables, electronic health records, and other sensors, proactively identifying issues and adjusting care plans.\n",
      "\n",
      "3. **Personalization at Scale:** By reasoning about individual patient needs and preferences, an Agentic AI can customize treatment regimens, medication schedules, dietary recommendations, and rehabilitation plans.\n",
      "\n",
      "4. **Coordination of Multiple Stakeholders:** The AI could act agentically to coordinate among patients, healthcare providers, insurance companies, pharmacies, and specialists, reducing bottlenecks and miscommunications.\n",
      "\n",
      "5. **Preventive and Predictive Insights:** Beyond reactive care, agentic systems can anticipate health risks and propose lifestyle changes or interventions, improving outcomes and reducing costs.\n",
      "\n",
      "### Potential Applications\n",
      "- Autonomous health coaching and lifestyle management\n",
      "- Automated medication adherence tracking and reminders\n",
      "- Early detection of deteriorating health conditions with proactive outreach\n",
      "- Dynamic scheduling and coordination of appointments and treatments\n",
      "\n",
      "Exploring Agentic AI here aligns with significant market demand, ethical impact potential, and substantial opportunities for innovation in AI autonomy and personalization.\n"
     ]
    }
   ],
   "source": [
    "print(business_idea)"
   ]
  },
  {
   "cell_type": "code",
   "execution_count": 19,
   "metadata": {},
   "outputs": [],
   "source": [
    "messages = [{\"role\": \"user\", \"content\": \"Review the following business ideas. For each, describe the pain points and the solution. Then, suggest a business model and a potential revenue stream.\" + business_idea}]\n",
    "\n",
    "response = openai.chat.completions.create(\n",
    "    model = \"gpt-4.1-mini\",\n",
    "    messages = messages\n",
    ")\n",
    "\n",
    "pain_points = response.choices[0].message.content"
   ]
  },
  {
   "cell_type": "code",
   "execution_count": 20,
   "metadata": {},
   "outputs": [
    {
     "name": "stdout",
     "output_type": "stream",
     "text": [
      "Let's analyze the business idea of **Personalized Healthcare Management** enabled by Agentic AI.\n",
      "\n",
      "---\n",
      "\n",
      "### Pain Points\n",
      "\n",
      "1. **Overwhelming Complexity of Healthcare Data:** Patients and providers struggle to synthesize large, diverse datasets (history, genetics, lifestyle, sensor data) to make optimal decisions.\n",
      "\n",
      "2. **Lack of Continuous and Proactive Care:** Traditional healthcare tends to be episodic and reactive rather than continuous and proactive, leading to missed early warnings.\n",
      "\n",
      "3. **Generic, One-Size-Fits-All Recommendations:** Current care plans are often standardized, lacking nuanced personalization that could improve adherence and outcomes.\n",
      "\n",
      "4. **Fragmented Stakeholder Coordination:** Inefficient communication and manual coordination between patients, providers, pharmacies, and insurance create delays and errors.\n",
      "\n",
      "5. **Low Medication Adherence and Engagement:** Patients frequently forget or misunderstand medication schedules and lifestyle advice, reducing treatment effectiveness.\n",
      "\n",
      "6. **High Healthcare Costs Due to Preventable Complications:** Without early detection and lifestyle adjustments, patients may require costly emergency care or hospitalizations.\n",
      "\n",
      "---\n",
      "\n",
      "### Solutions Provided by Agentic AI in Personalized Healthcare Management\n",
      "\n",
      "1. **Autonomous Data Integration and Decision-Making:** The AI agent continuously aggregates and analyzes multi-source data to provide context-aware health decisions tailored to the individual.\n",
      "\n",
      "2. **Continuous, Real-Time Monitoring:** Seamless integration with wearables and health records enables proactive identification of risks and deterioration.\n",
      "\n",
      "3. **Personalized Health Coaching:** By reasoning on personal preferences and data trends, the AI creates customized lifestyle and treatment plans to maximize engagement.\n",
      "\n",
      "4. **Automated Stakeholder Coordination:** AI manages scheduling, communications, and data sharing across providers, insurers, and pharmacies, reducing bottlenecks.\n",
      "\n",
      "5. **Medication Adherence Support:** Timely reminders, behavioral nudges, and adherence tracking improve compliance to prescribed regimens.\n",
      "\n",
      "6. **Preventive Interventions:** Predictive analytics recommend lifestyle adjustments and preventive care before onset of serious conditions, reducing costs.\n",
      "\n",
      "---\n",
      "\n",
      "### Business Model Suggestions\n",
      "\n",
      "1. **B2C Subscription Model:**  \n",
      "   - Customers (patients) pay a monthly/annual fee for access to personal AI health management, coaching, and monitoring services via an app or platform.  \n",
      "   - Tiered pricing—basic monitoring to premium personalized coaching and concierge services.\n",
      "\n",
      "2. **B2B SaaS Model for Healthcare Providers:**  \n",
      "   - License Agentic AI software to hospitals, clinics, or health systems to augment care teams with continuous patient monitoring and coordination tools.  \n",
      "   - Pricing based on number of patients monitored or usage.\n",
      "\n",
      "3. **Partnership Model with Insurers and Employers:**  \n",
      "   - Collaborate with insurers or employers who subsidize the AI service to improve population health and reduce claims costs.  \n",
      "   - Value-sharing agreements or per-member-per-month fees.\n",
      "\n",
      "4. **Data-Driven Insights for Pharmacies and Pharma Companies:**  \n",
      "   - Aggregated, anonymized analytics on medication adherence and patient outcomes can be licensed to pharmaceutical companies for R&D and marketing insights.\n",
      "\n",
      "---\n",
      "\n",
      "### Potential Revenue Streams\n",
      "\n",
      "- **Subscription Fees:** Recurring monthly payments from individuals or organizations using the AI-driven platform.\n",
      "\n",
      "- **Licensing Fees:** Payments from healthcare providers for deploying the AI system in their workflows.\n",
      "\n",
      "- **Success-Based Fees:** Bonuses or rebates from insurers/employers tied to improved health outcomes or reduced costs.\n",
      "\n",
      "- **Data Analytics Sales:** Monetization of anonymized health data insights compliant with privacy regulations.\n",
      "\n",
      "- **Premium Services:** Upsell options like live telehealth consultations, personalized coaching, or advanced biometric devices.\n",
      "\n",
      "---\n",
      "\n",
      "### Summary\n",
      "\n",
      "By addressing critical pain points in healthcare complexity, continuity, personalization, and stakeholder coordination, an Agentic AI-powered Personalized Healthcare Management platform can transform patient care, reduce costs, and improve outcomes. Multiple viable business models—from direct-to-consumer subscriptions to B2B SaaS and partnerships—can generate diversified revenue streams aligned with market demand and ethical data practices.\n"
     ]
    }
   ],
   "source": [
    "print(pain_points)"
   ]
  },
  {
   "cell_type": "markdown",
   "metadata": {},
   "source": []
  },
  {
   "cell_type": "markdown",
   "metadata": {},
   "source": []
  }
 ],
 "metadata": {
  "kernelspec": {
   "display_name": ".venv",
   "language": "python",
   "name": "python3"
  },
  "language_info": {
   "codemirror_mode": {
    "name": "ipython",
    "version": 3
   },
   "file_extension": ".py",
   "mimetype": "text/x-python",
   "name": "python",
   "nbconvert_exporter": "python",
   "pygments_lexer": "ipython3",
   "version": "3.12.11"
  }
 },
 "nbformat": 4,
 "nbformat_minor": 2
}
